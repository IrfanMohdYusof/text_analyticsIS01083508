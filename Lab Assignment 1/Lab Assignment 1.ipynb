{
 "cells": [
  {
   "cell_type": "code",
   "execution_count": 163,
   "id": "b9112fc6-c707-496f-9be5-4afada62fa7f",
   "metadata": {
    "scrolled": true
   },
   "outputs": [
    {
     "name": "stdout",
     "output_type": "stream",
     "text": [
      "Requirement already satisfied: selenium in c:\\users\\asus\\anaconda3\\lib\\site-packages (4.29.0)\n",
      "Requirement already satisfied: pandas in c:\\users\\asus\\anaconda3\\lib\\site-packages (2.2.2)\n",
      "Requirement already satisfied: urllib3<3,>=1.26 in c:\\users\\asus\\anaconda3\\lib\\site-packages (from urllib3[socks]<3,>=1.26->selenium) (2.2.3)\n",
      "Requirement already satisfied: trio~=0.17 in c:\\users\\asus\\anaconda3\\lib\\site-packages (from selenium) (0.29.0)\n",
      "Requirement already satisfied: trio-websocket~=0.9 in c:\\users\\asus\\anaconda3\\lib\\site-packages (from selenium) (0.12.2)\n",
      "Requirement already satisfied: certifi>=2021.10.8 in c:\\users\\asus\\anaconda3\\lib\\site-packages (from selenium) (2025.1.31)\n",
      "Requirement already satisfied: typing_extensions~=4.9 in c:\\users\\asus\\anaconda3\\lib\\site-packages (from selenium) (4.11.0)\n",
      "Requirement already satisfied: websocket-client~=1.8 in c:\\users\\asus\\anaconda3\\lib\\site-packages (from selenium) (1.8.0)\n",
      "Requirement already satisfied: numpy>=1.26.0 in c:\\users\\asus\\anaconda3\\lib\\site-packages (from pandas) (1.26.4)\n",
      "Requirement already satisfied: python-dateutil>=2.8.2 in c:\\users\\asus\\anaconda3\\lib\\site-packages (from pandas) (2.9.0.post0)\n",
      "Requirement already satisfied: pytz>=2020.1 in c:\\users\\asus\\anaconda3\\lib\\site-packages (from pandas) (2024.1)\n",
      "Requirement already satisfied: tzdata>=2022.7 in c:\\users\\asus\\anaconda3\\lib\\site-packages (from pandas) (2023.3)\n",
      "Requirement already satisfied: six>=1.5 in c:\\users\\asus\\anaconda3\\lib\\site-packages (from python-dateutil>=2.8.2->pandas) (1.16.0)\n",
      "Requirement already satisfied: attrs>=23.2.0 in c:\\users\\asus\\anaconda3\\lib\\site-packages (from trio~=0.17->selenium) (25.3.0)\n",
      "Requirement already satisfied: sortedcontainers in c:\\users\\asus\\anaconda3\\lib\\site-packages (from trio~=0.17->selenium) (2.4.0)\n",
      "Requirement already satisfied: idna in c:\\users\\asus\\anaconda3\\lib\\site-packages (from trio~=0.17->selenium) (3.7)\n",
      "Requirement already satisfied: outcome in c:\\users\\asus\\anaconda3\\lib\\site-packages (from trio~=0.17->selenium) (1.3.0.post0)\n",
      "Requirement already satisfied: sniffio>=1.3.0 in c:\\users\\asus\\anaconda3\\lib\\site-packages (from trio~=0.17->selenium) (1.3.0)\n",
      "Requirement already satisfied: cffi>=1.14 in c:\\users\\asus\\anaconda3\\lib\\site-packages (from trio~=0.17->selenium) (1.17.1)\n",
      "Requirement already satisfied: wsproto>=0.14 in c:\\users\\asus\\anaconda3\\lib\\site-packages (from trio-websocket~=0.9->selenium) (1.2.0)\n",
      "Requirement already satisfied: pysocks!=1.5.7,<2.0,>=1.5.6 in c:\\users\\asus\\anaconda3\\lib\\site-packages (from urllib3[socks]<3,>=1.26->selenium) (1.7.1)\n",
      "Requirement already satisfied: pycparser in c:\\users\\asus\\anaconda3\\lib\\site-packages (from cffi>=1.14->trio~=0.17->selenium) (2.21)\n",
      "Requirement already satisfied: h11<1,>=0.9.0 in c:\\users\\asus\\anaconda3\\lib\\site-packages (from wsproto>=0.14->trio-websocket~=0.9->selenium) (0.14.0)\n",
      "Note: you may need to restart the kernel to use updated packages.\n"
     ]
    }
   ],
   "source": [
    "pip install selenium pandas\n",
    "#Name and ID (Section 03) Text Analytics CISB5123 \n",
    "#Muhammad Syafarul Irfan Bin Mohd Yusof(IS01083508)\n",
    "#Alasiri Omar Abdullah (IS01082222)"
   ]
  },
  {
   "cell_type": "code",
   "execution_count": 164,
   "id": "9f6c8ae3-b306-481b-8dbd-c29b7fe5bb2e",
   "metadata": {},
   "outputs": [],
   "source": [
    "# Import necessary libraries\n",
    "from selenium import webdriver\n",
    "from selenium.webdriver.edge.service import Service\n",
    "from selenium.webdriver.common.by import By\n",
    "from selenium.webdriver.support.ui import WebDriverWait\n",
    "from selenium.webdriver.support import expected_conditions as EC\n",
    "import pandas as pd\n",
    "import time"
   ]
  },
  {
   "cell_type": "code",
   "execution_count": 165,
   "id": "30d668dc-89fc-4cd6-aa00-1e575492e2d9",
   "metadata": {},
   "outputs": [],
   "source": [
    "# Set the path to EdgeDriver (update this path)\n",
    "edge_driver_path = r\"C:/Users/Asus/Documents/edgedriver_win64/msedgedriver.exe\"\n",
    "\n",
    "# Initialize Edge WebDriver\n",
    "service = Service(edge_driver_path)\n",
    "driver = webdriver.Edge(service=service)\n",
    "wait = WebDriverWait(driver, 10)\n",
    "\n",
    "# Amazon product URL\n",
    "product_url = \"https://www.amazon.com/product-reviews/B0CJ2SM18B/ref=cm_cr_dp_d_show_all_btm?ie=UTF8&reviewerType=all_reviews&returnFromLogin=1\"\n",
    "driver.get(product_url)\n",
    "time.sleep(5)  # Wait for the page to load"
   ]
  },
  {
   "cell_type": "code",
   "execution_count": 166,
   "id": "3d078e51-28fe-4fb7-8618-970f296ea5fb",
   "metadata": {},
   "outputs": [],
   "source": [
    "def extract_reviews():\n",
    "    reviews = []\n",
    "    \n",
    "    try:\n",
    "        review_blocks = wait.until(EC.presence_of_all_elements_located(\n",
    "            (By.CSS_SELECTOR, '.review')))\n",
    "        \n",
    "        for block in review_blocks:\n",
    "            try:\n",
    "                reviewer_name = block.find_element(By.CSS_SELECTOR, '.a-profile-name').text.strip()\n",
    "                review_date = block.find_element(By.CSS_SELECTOR, '.review-date').text.strip()\n",
    "                review_content = block.find_element(By.CSS_SELECTOR, '.review-text-content span').text.strip()\n",
    "\n",
    "                reviews.append({\n",
    "                    'Reviewer Name': reviewer_name,\n",
    "                    'Review Date': review_date,\n",
    "                    'Review Content': review_content\n",
    "                })\n",
    "            except Exception as e:\n",
    "                print(\"Error extracting a review:\", e)\n",
    "                continue  # Skip problematic reviews\n",
    "                \n",
    "    except Exception as e:\n",
    "        print(\"Error loading reviews:\", e)\n",
    "    \n",
    "    return reviews\n"
   ]
  },
  {
   "cell_type": "code",
   "execution_count": 167,
   "id": "f26c9536-b3cd-4d91-98b0-eec25e34f3b2",
   "metadata": {},
   "outputs": [
    {
     "name": "stdout",
     "output_type": "stream",
     "text": [
      "Scraping page 1...\n",
      "Error loading reviews: Message: \n",
      "\n",
      "Scraping page 2...\n",
      "Scraping page 3...\n",
      "Scraping page 4...\n",
      "Scraping page 5...\n"
     ]
    }
   ],
   "source": [
    "# Scrape reviews from multiple pages\n",
    "for page in range(1, 6):  # Adjust the range as needed\n",
    "    print(f\"Scraping page {page}...\")\n",
    "    all_reviews.extend(extract_reviews())\n",
    "\n",
    "    # Try clicking the \"Next page\" button\n",
    "    try:\n",
    "        next_button = wait.until(EC.element_to_be_clickable(\n",
    "            (By.XPATH, \"//a[contains(text(), 'Next page')]\")))  # Adjusted for new button\n",
    "        driver.execute_script(\"arguments[0].click();\", next_button)\n",
    "        time.sleep(5)  # Wait for next page to load\n",
    "    except Exception:\n",
    "        print(\"No more pages or 'Next page' button not found.\")\n",
    "        break  # Stop if there's no \"Next page\" button\n"
   ]
  },
  {
   "cell_type": "code",
   "execution_count": 168,
   "id": "9ee03be3-b322-410b-96d7-8e883bd42603",
   "metadata": {
    "scrolled": true
   },
   "outputs": [
    {
     "name": "stdout",
     "output_type": "stream",
     "text": [
      "Reviews saved successfully to amazon_kewpie_reviews.csv\n"
     ]
    }
   ],
   "source": [
    "# Convert to DataFrame\n",
    "df_reviews = pd.DataFrame(all_reviews)\n",
    "\n",
    "# Save to CSV\n",
    "df_reviews.to_csv('amazon_kewpie_reviews.csv', index=False)\n",
    "\n",
    "print(\"Reviews saved successfully to amazon_kewpie_reviews.csv\")\n",
    "\n",
    "# Close the browser\n",
    "driver.quit()\n"
   ]
  }
 ],
 "metadata": {
  "kernelspec": {
   "display_name": "Python [conda env:base] *",
   "language": "python",
   "name": "conda-base-py"
  },
  "language_info": {
   "codemirror_mode": {
    "name": "ipython",
    "version": 3
   },
   "file_extension": ".py",
   "mimetype": "text/x-python",
   "name": "python",
   "nbconvert_exporter": "python",
   "pygments_lexer": "ipython3",
   "version": "3.12.7"
  }
 },
 "nbformat": 4,
 "nbformat_minor": 5
}
