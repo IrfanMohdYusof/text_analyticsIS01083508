{
 "cells": [
  {
   "cell_type": "code",
   "execution_count": 13,
   "id": "dbbc4297-e651-436a-aa01-c53798b1bb6e",
   "metadata": {},
   "outputs": [
    {
     "name": "stdout",
     "output_type": "stream",
     "text": [
      "Reviews:\n",
      " 0    The product is amazing!\n",
      "1     Worst experience ever!\n",
      "Name: Review, dtype: object\n"
     ]
    }
   ],
   "source": [
    "import pandas as pd\n",
    "# Read the CSV file\n",
    "df = pd.read_csv('reviews.csv')\n",
    "print(\"Reviews:\\n\", df['Review'].head())\n",
    "# Save the reviews column to a text file\n",
    "df['Review'].to_csv('stored_reviews.txt', index=False, header=False)"
   ]
  },
  {
   "cell_type": "code",
   "execution_count": 14,
   "id": "e823a577-3ff0-4963-9882-723fcb21bb10",
   "metadata": {},
   "outputs": [
    {
     "name": "stdout",
     "output_type": "stream",
     "text": [
      "First two rows:\n",
      "    ID                   Review\n",
      "0   1  The product is amazing!\n",
      "1   2   Worst experience ever!\n"
     ]
    }
   ],
   "source": [
    "# Read the Excel file\n",
    "df_excel = pd.read_excel('reviews.xlsx', engine='openpyxl')\n",
    "print(\"First two rows:\\n\", df_excel.head(2))\n",
    "# Save the first two rows to a text file\n",
    "df_excel.head(2).to_csv('extracted_excel.txt', index=False)"
   ]
  },
  {
   "cell_type": "code",
   "execution_count": 16,
   "id": "e8da33e3-4cb4-47b3-b76a-bab01dd5b406",
   "metadata": {},
   "outputs": [
    {
     "name": "stdout",
     "output_type": "stream",
     "text": [
      "Extracted City: New York\n"
     ]
    }
   ],
   "source": [
    "import json \n",
    "with open('social_data.json', 'r', encoding='utf-8') as file:\n",
    "    data = json.load(file)\n",
    "print(\"Extracted City:\", data['city'])\n",
    "# Store the extracted city to a file\n",
    "with open('stored_city.txt', 'w', encoding='utf-8') as file:file.write(data['city'])"
   ]
  },
  {
   "cell_type": "code",
   "execution_count": 40,
   "id": "56cbfa07-2031-42d6-b116-1b509670e606",
   "metadata": {},
   "outputs": [
    {
     "name": "stdout",
     "output_type": "stream",
     "text": [
      "Extracted Content: AI is playing a key role in automation...\n"
     ]
    }
   ],
   "source": [
    "#FOR CONTENT EXTRACT\n",
    "import xml.etree.ElementTree as ET\n",
    "tree = ET.parse('news.xml')\n",
    "root = tree.getroot()\n",
    "\n",
    "for article in root.findall('article'):\n",
    " title = article.find('content').text\n",
    " print(\"Extracted Content:\", title)\n",
    "\n",
    "with open('stored_content.txt', 'w', encoding='utf-8') as file:\n",
    " for article in root.findall('article'): title = article.find('content').text\n",
    " file.write(title + '\\n')"
   ]
  },
  {
   "cell_type": "code",
   "execution_count": 33,
   "id": "87b88efb-1c4d-4203-b1e6-d7ef399a1fe8",
   "metadata": {},
   "outputs": [
    {
     "name": "stdout",
     "output_type": "stream",
     "text": [
      "Requirement already satisfied: PyPDF2 in c:\\users\\asus\\anaconda3\\lib\\site-packages (3.0.1)Note: you may need to restart the kernel to use updated packages.\n",
      "\n"
     ]
    }
   ],
   "source": [
    "pip install PyPDF2"
   ]
  },
  {
   "cell_type": "code",
   "execution_count": 37,
   "id": "def4aa62-e84f-4397-b512-1311d5142a30",
   "metadata": {},
   "outputs": [
    {
     "name": "stdout",
     "output_type": "stream",
     "text": [
      "Extracted PDF Text:\n",
      " This is a sample PDF document.  \n",
      "AI is transforming industries and automation.  \n"
     ]
    }
   ],
   "source": [
    "import PyPDF2\n",
    "# Read the PDF file\n",
    "with open('document.pdf', 'rb') as file:\n",
    " reader = PyPDF2.PdfReader(file)\n",
    " text = \"\\n\".join(page.extract_text() for page in reader.pages if page.extract_text())\n",
    "# Print the extracted text\n",
    "print(\"Extracted PDF Text:\\n\", text)\n",
    "# Store the extracted text in a file\n",
    "with open('stored_pdf_text.txt', 'w', encoding='utf-8') as output:\n",
    " output.write(text)"
   ]
  },
  {
   "cell_type": "code",
   "execution_count": 41,
   "id": "2d851867-cdb6-40d1-8e42-cb828486ff3b",
   "metadata": {},
   "outputs": [
    {
     "name": "stdout",
     "output_type": "stream",
     "text": [
      "Extracted PDF Text:\n",
      " Business Proposal  \n",
      "The Revolution is Coming  \n",
      "Leverage agile frameworks to provide a robust synopsis for high level  \n",
      "overviews. Iterative approaches to corporate strategy foster collaborative  \n",
      "thinking to further the overall value proposition. Organically grow the  \n",
      "holistic world view of disruptive innovation via workplace diversity and  \n",
      "empowerment.  \n",
      "Bring to the table win -win survival strategies to ensure proactive  \n",
      "domination. At the end of the day, going forward, a new normal that has  \n",
      "evolved from generation X is on the runway heading towards a streamlined  \n",
      "cloud solution. User generated content in real -time will have multi ple \n",
      "touchpoints for offshoring.  \n",
      "Capitalize on low hanging fruit to identify a ballpark value added activity to  \n",
      "beta test. Override the digital divide with additional clickthroughs from  \n",
      "DevOps. Nanotechnology immersion along the information highway will  \n",
      "close the loop on focusing solely on the bottom line.  \n",
      "Podcasting operational change management inside of workflows to  \n",
      "establish a framework. Taking seamless key performance indicators offline  \n",
      "to maximise the long tail. Keeping your eye on the ball while perfo rming a  \n",
      "deep dive on the start -up mentality to derive convergence on crossplatform  \n",
      "integration.  \n",
      "Collaboratively administrate empowered markets via plug -and-play \n",
      "networks. Dynamically procrastinate B2C users after installed base  \n",
      "benefits. Dramatically visua lize customer directed convergence without  \n",
      "revolutionary ROI.  \n",
      "Efficiently unleash cross -media information without cross -media value.  \n",
      "Quickly maximize timely deliverables for real -time schemas. Dramatically  \n",
      "maintain clicks -and-mortar solutions without funct ional solutio ns. \n",
      "  \n",
      "AUTHORS:  \n",
      "Amy Baker, Finance Chair, x345, abaker@ourcompany.com  \n",
      "Chris Donaldson, Accounting Dir., x621, cdonaldson@ourcompany.com  \n",
      "Erin Freeman, Sr. VP, x879, efreeman@ourcompany.com  \n"
     ]
    }
   ],
   "source": [
    "import PyPDF2\n",
    "# Read the PDF file\n",
    "with open('Business_Proposal.pdf', 'rb') as file:\n",
    " reader = PyPDF2.PdfReader(file)\n",
    " text = \"\\n\".join(page.extract_text() for page in reader.pages if page.extract_text())\n",
    "# Print the extracted text\n",
    "print(\"Extracted PDF Text:\\n\", text)\n",
    "# Store the extracted text in a file\n",
    "with open('business_proposal_all.txt', 'w', encoding='utf-8') as output:\n",
    " output.write(text)"
   ]
  },
  {
   "cell_type": "code",
   "execution_count": 43,
   "id": "00b625e4-c42b-4645-8315-073c22f16349",
   "metadata": {},
   "outputs": [
    {
     "name": "stdout",
     "output_type": "stream",
     "text": [
      "Extracted PDF Text:\n",
      " AUTHORS:  \n",
      "Amy Baker, Finance Chair, x345, abaker@ourcompany.com  \n",
      "Chris Donaldson, Accounting Dir., x621, cdonaldson@ourcompany.com  \n",
      "Erin Freeman, Sr. VP, x879, efreeman@ourcompany.com  \n"
     ]
    }
   ],
   "source": [
    "with open('Business_Proposal.pdf', 'rb') as file:\n",
    "    reader = PyPDF2.PdfReader(file)\n",
    "    page = reader.pages[1]\n",
    "    text = page.extract_text()\n",
    "print(\"Extracted PDF Text:\\n\", text)\n",
    "with open('business_proposal_page_2.txt', 'w', encoding='utf-8') as output:\n",
    " output.write(text)"
   ]
  }
 ],
 "metadata": {
  "kernelspec": {
   "display_name": "Python 3 (ipykernel)",
   "language": "python",
   "name": "python3"
  },
  "language_info": {
   "codemirror_mode": {
    "name": "ipython",
    "version": 3
   },
   "file_extension": ".py",
   "mimetype": "text/x-python",
   "name": "python",
   "nbconvert_exporter": "python",
   "pygments_lexer": "ipython3",
   "version": "3.12.7"
  }
 },
 "nbformat": 4,
 "nbformat_minor": 5
}
